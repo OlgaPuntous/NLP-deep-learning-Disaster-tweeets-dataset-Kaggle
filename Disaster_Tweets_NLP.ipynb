{
  "nbformat": 4,
  "nbformat_minor": 0,
  "metadata": {
    "colab": {
      "name": "Disaster Tweets kaggleV2.ipynb",
      "provenance": [],
      "collapsed_sections": [],
      "mount_file_id": "1jvuv6hquTkwAxwdnlWn4rby_qgO5mKpI",
      "authorship_tag": "ABX9TyOnKwRwiVptf0WAmyb/a6ur",
      "include_colab_link": true
    },
    "kernelspec": {
      "name": "python3",
      "display_name": "Python 3"
    }
  },
  "cells": [
    {
      "cell_type": "markdown",
      "metadata": {
        "id": "view-in-github",
        "colab_type": "text"
      },
      "source": [
        "<a href=\"https://colab.research.google.com/github/OlgaPuntous/NLP-deep-learning-Disaster-tweeets-dataset-Kaggle/blob/master/Disaster_Tweets_NLP.ipynb\" target=\"_parent\"><img src=\"https://colab.research.google.com/assets/colab-badge.svg\" alt=\"Open In Colab\"/></a>"
      ]
    },
    {
      "cell_type": "markdown",
      "metadata": {
        "id": "hUgCtID-Alwz"
      },
      "source": [
        "#Hello \n",
        "\n",
        "This is an NLP example notebook, were we are going to use Kaggle dataset 'Natural Language Processing with Disaster Tweets' \n",
        "\n",
        "In this kaggle competition, the challenge is to build a machine learning model that predicts which Tweets are about real disasters and which one’s aren’t. So, it's binary classification problem.\n",
        "\n",
        "Let's start importing the libraries:"
      ]
    },
    {
      "cell_type": "code",
      "metadata": {
        "id": "J48JML2ogecm"
      },
      "source": [
        "import tensorflow as tf \n",
        "import tensorflow_datasets as tfds\n",
        "import matplotlib.pyplot as plt\n",
        "import seaborn as sns\n",
        "import pathlib \n",
        "import pandas as pd \n",
        "import numpy as np\n",
        "import spacy"
      ],
      "execution_count": 31,
      "outputs": []
    },
    {
      "cell_type": "code",
      "metadata": {
        "id": "3T2_tume51xw"
      },
      "source": [
        "from textblob import TextBlob #will be testing Textblob library for text correction"
      ],
      "execution_count": 32,
      "outputs": []
    },
    {
      "cell_type": "code",
      "metadata": {
        "id": "HzLoEo6hieQO"
      },
      "source": [
        "nlp = spacy.load(\"en\")"
      ],
      "execution_count": 33,
      "outputs": []
    },
    {
      "cell_type": "code",
      "metadata": {
        "id": "2n6VttGciiS5"
      },
      "source": [
        "from spacy.lang.en.stop_words import STOP_WORDS"
      ],
      "execution_count": 34,
      "outputs": []
    },
    {
      "cell_type": "markdown",
      "metadata": {
        "id": "v26cG1sHDK0Z"
      },
      "source": [
        "# Looking at dataset\n",
        "Let's make a quick look at our dataset."
      ]
    },
    {
      "cell_type": "code",
      "metadata": {
        "colab": {
          "base_uri": "https://localhost:8080/",
          "height": 195
        },
        "id": "PUaNzkW2ik4o",
        "outputId": "35e88be7-f4d0-435e-a60d-0fdc05db18b9"
      },
      "source": [
        "data=pd.read_csv('/content/drive/MyDrive/train.csv')\n",
        "data.sample(5)"
      ],
      "execution_count": 35,
      "outputs": [
        {
          "output_type": "execute_result",
          "data": {
            "text/html": [
              "<div>\n",
              "<style scoped>\n",
              "    .dataframe tbody tr th:only-of-type {\n",
              "        vertical-align: middle;\n",
              "    }\n",
              "\n",
              "    .dataframe tbody tr th {\n",
              "        vertical-align: top;\n",
              "    }\n",
              "\n",
              "    .dataframe thead th {\n",
              "        text-align: right;\n",
              "    }\n",
              "</style>\n",
              "<table border=\"1\" class=\"dataframe\">\n",
              "  <thead>\n",
              "    <tr style=\"text-align: right;\">\n",
              "      <th></th>\n",
              "      <th>id</th>\n",
              "      <th>keyword</th>\n",
              "      <th>location</th>\n",
              "      <th>text</th>\n",
              "      <th>target</th>\n",
              "    </tr>\n",
              "  </thead>\n",
              "  <tbody>\n",
              "    <tr>\n",
              "      <th>6101</th>\n",
              "      <td>8711</td>\n",
              "      <td>sinking</td>\n",
              "      <td>NaN</td>\n",
              "      <td>We walk the plank of a sinking ship</td>\n",
              "      <td>0</td>\n",
              "    </tr>\n",
              "    <tr>\n",
              "      <th>6035</th>\n",
              "      <td>8625</td>\n",
              "      <td>seismic</td>\n",
              "      <td>NaN</td>\n",
              "      <td>#Sismo DETECTADO #JapÌ_n [Report 3] 01:02:17 O...</td>\n",
              "      <td>1</td>\n",
              "    </tr>\n",
              "    <tr>\n",
              "      <th>6768</th>\n",
              "      <td>9699</td>\n",
              "      <td>tornado</td>\n",
              "      <td>canada</td>\n",
              "      <td>Calgary area tornado warnings end as thunderst...</td>\n",
              "      <td>1</td>\n",
              "    </tr>\n",
              "    <tr>\n",
              "      <th>4057</th>\n",
              "      <td>5764</td>\n",
              "      <td>forest%20fires</td>\n",
              "      <td>NaN</td>\n",
              "      <td>A group of Florida Forest Service firefighters...</td>\n",
              "      <td>1</td>\n",
              "    </tr>\n",
              "    <tr>\n",
              "      <th>2006</th>\n",
              "      <td>2882</td>\n",
              "      <td>damage</td>\n",
              "      <td>Pontevedra, Galicia</td>\n",
              "      <td>#NP Metallica - Damage Inc</td>\n",
              "      <td>0</td>\n",
              "    </tr>\n",
              "  </tbody>\n",
              "</table>\n",
              "</div>"
            ],
            "text/plain": [
              "        id  ... target\n",
              "6101  8711  ...      0\n",
              "6035  8625  ...      1\n",
              "6768  9699  ...      1\n",
              "4057  5764  ...      1\n",
              "2006  2882  ...      0\n",
              "\n",
              "[5 rows x 5 columns]"
            ]
          },
          "metadata": {
            "tags": []
          },
          "execution_count": 35
        }
      ]
    },
    {
      "cell_type": "code",
      "metadata": {
        "colab": {
          "base_uri": "https://localhost:8080/",
          "height": 293
        },
        "id": "RKxLRHeCF6xY",
        "outputId": "7f89b462-aa52-475e-8c87-a00c0ae744ae"
      },
      "source": [
        "data.groupby(['target']).count()['id'].plot.bar(color=['c','r'],alpha=0.2)\n"
      ],
      "execution_count": 36,
      "outputs": [
        {
          "output_type": "execute_result",
          "data": {
            "text/plain": [
              "<matplotlib.axes._subplots.AxesSubplot at 0x7fb50f0ccdd0>"
            ]
          },
          "metadata": {
            "tags": []
          },
          "execution_count": 36
        },
        {
          "output_type": "display_data",
          "data": {
            "image/png": "[encoded data removed]",
            "text/plain": [
              "<Figure size 432x288 with 1 Axes>"
            ]
          },
          "metadata": {
            "tags": [],
            "needs_background": "light"
          }
        }
      ]
    },
    {
      "cell_type": "markdown",
      "metadata": {
        "id": "mVa596XrHbQ5"
      },
      "source": [
        "This is initial distribution of our target. There are more non-disaster tweets than disaster."
      ]
    },
    {
      "cell_type": "code",
      "metadata": {
        "id": "Bj-nLksCSw0n",
        "colab": {
          "base_uri": "https://localhost:8080/",
          "height": 356
        },
        "outputId": "d8d48d44-c955-4239-cb01-8cf52dbbf325"
      },
      "source": [
        "fig,(ax1,ax2)=plt.subplots(1,2,figsize=(10,5),sharey=True)\n",
        "\n",
        "tweet_len=data[data['target']==1]['text'].str.len()\n",
        "ax1.hist(tweet_len,color='r',alpha=0.2,bins=15)\n",
        "ax1.set_title('disaster tweets')\n",
        "tweet_len=data[data['target']==0]['text'].str.len()\n",
        "ax2.hist(tweet_len,color='b',alpha=0.2,bins=15)\n",
        "ax2.set_title('Not disaster tweets')\n",
        "fig.suptitle(' Number of characters in tweets')\n",
        "plt.show()"
      ],
      "execution_count": 37,
      "outputs": [
        {
          "output_type": "display_data",
          "data": {
            "image/png": "[encoded data removed]",
            "text/plain": [
              "<Figure size 720x360 with 2 Axes>"
            ]
          },
          "metadata": {
            "tags": [],
            "needs_background": "light"
          }
        }
      ]
    },
    {
      "cell_type": "code",
      "metadata": {
        "colab": {
          "base_uri": "https://localhost:8080/",
          "height": 356
        },
        "id": "s9nm7eokIWeV",
        "outputId": "3e65590a-e881-4d8a-b947-8ef60e34947e"
      },
      "source": [
        "fig,(ax1,ax2)=plt.subplots(1,2,figsize=(10,5))\n",
        "tweet_len=data[data['target']==1]['text'].str.split().map(lambda x: len(x))\n",
        "ax1.hist(tweet_len,color='r',alpha=0.2,bins=15)\n",
        "ax1.set_title('disaster tweets')\n",
        "tweet_len=data[data['target']==0]['text'].str.split().map(lambda x: len(x))\n",
        "ax2.hist(tweet_len,color='b', alpha=0.2,bins=15)\n",
        "ax2.set_title('Not disaster tweets')\n",
        "fig.suptitle('Words in a tweet')\n",
        "plt.show()"
      ],
      "execution_count": 38,
      "outputs": [
        {
          "output_type": "display_data",
          "data": {
            "image/png": "[encoded data removed]",
            "text/plain": [
              "<Figure size 720x360 with 2 Axes>"
            ]
          },
          "metadata": {
            "tags": [],
            "needs_background": "light"
          }
        }
      ]
    },
    {
      "cell_type": "markdown",
      "metadata": {
        "id": "mmvQ-WHtLjBr"
      },
      "source": [
        "What we see from visualisations, that disaster tweets ans non-disaster tweets have pretty similar distrubutions by number of characters and words length."
      ]
    },
    {
      "cell_type": "code",
      "metadata": {
        "id": "9ahkha_ec1hE"
      },
      "source": [
        ""
      ],
      "execution_count": 38,
      "outputs": []
    },
    {
      "cell_type": "markdown",
      "metadata": {
        "id": "HqPmi0k8lyG5"
      },
      "source": [
        "# Data preprocessing\n",
        "\n",
        "First , we need to clean the text of our tweets from internel links, email adresses , punctuation,"
      ]
    },
    {
      "cell_type": "code",
      "metadata": {
        "id": "54OWUey_knSZ"
      },
      "source": [
        "def cleaning(df):\n",
        "\n",
        "    df =df.str.replace(r'http\\S+', \" \") #removing internet links from text \n",
        "    df =df.str.replace(r\"\\S*@\\S*\\s?\",' ')#removing email adresses from text \n",
        "    df = df.str.replace('[^\\w\\s]',' ')#keeping only alphanumeric characters\n",
        "    df = df.str.replace(\"#\", \" \")#converting tags to text\n",
        "    df = df.str.replace('\\d+', '')#removing digits from text\n",
        "    df = df.str.replace(\" +\", \" \")\n",
        "\n",
        "    return (df)"
      ],
      "execution_count": 39,
      "outputs": []
    },
    {
      "cell_type": "code",
      "metadata": {
        "colab": {
          "base_uri": "https://localhost:8080/"
        },
        "id": "aoYSOpC2Rinq",
        "outputId": "eeaac870-50f4-405b-bcb0-8b66cb6c8937"
      },
      "source": [
        "data['clean_text']=cleaning(data['text'])\n",
        "data['clean_location'] =cleaning(data['location'])\n",
        "data['clean_keyword'] =cleaning(data['keyword'])\n",
        "\n",
        "\n",
        "a=np.random.randint(6000)\n",
        "print('\\033[1m'+'initial text:'+'\\033[0m')\n",
        "print(data.loc[a,'text'])\n",
        "print('\\033[1m'+'clean_text:'+'\\033[0m')\n",
        "print(data.loc[a,'clean_text'])\n",
        "print('...')\n",
        "\n",
        "\n",
        "print('\\033[1m'+'initial_location:'+'\\033[0m')\n",
        "print(data.loc[a,'location'])\n",
        "print('\\033[1m'+'clean text:'+'\\033[0m')\n",
        "print(data.loc[a,'clean_location'])\n",
        "print('...')\n",
        "\n",
        "\n",
        "print('\\033[1m'+'initial_keyword:'+'\\033[0m')\n",
        "print(data.loc[a,'keyword'])\n",
        "print('\\033[1m'+'clean_keyword:'+'\\033[0m')\n",
        "print(data.loc[a,'clean_keyword'])\n",
        "print('...')\n",
        "\n",
        "\n"
      ],
      "execution_count": 40,
      "outputs": [
        {
          "output_type": "stream",
          "text": [
            "\u001b[1minitial text:\u001b[0m\n",
            "09:13 PM:  Hazardous Weather Outlook (http://t.co/ed1VpITsWY): NO HAZARDOUS WEATHER IS EXPECTED AT THIS TIME.... http://t.co/6XSbddlZiy\n",
            "\u001b[1mclean_text:\u001b[0m\n",
            " PM Hazardous Weather Outlook NO HAZARDOUS WEATHER IS EXPECTED AT THIS TIME \n",
            "...\n",
            "\u001b[1minitial_location:\u001b[0m\n",
            "Gainesville, FL\n",
            "\u001b[1mclean text:\u001b[0m\n",
            "Gainesville FL\n",
            "...\n",
            "\u001b[1minitial_keyword:\u001b[0m\n",
            "hazardous\n",
            "\u001b[1mclean_keyword:\u001b[0m\n",
            "hazardous\n",
            "...\n"
          ],
          "name": "stdout"
        }
      ]
    },
    {
      "cell_type": "code",
      "metadata": {
        "colab": {
          "base_uri": "https://localhost:8080/",
          "height": 359
        },
        "id": "zslhLlqsgAO4",
        "outputId": "257bfbca-2988-49c0-b1de-0d6df0e74e40"
      },
      "source": [
        "ax=data[data['target']==1].groupby(['clean_location']).count()['id'][data.groupby(['clean_location']).count()['id']>10].plot.bar(color=['c'],alpha=0.2)\n",
        "ax=data[data['target']==0].groupby(['clean_location']).count()['id'][data.groupby(['clean_location']).count()['id']>10].plot.bar(color=['r'],alpha=0.2,position=0.2)"
      ],
      "execution_count": 41,
      "outputs": [
        {
          "output_type": "display_data",
          "data": {
            "image/png": "[encoded data removed]",
            "text/plain": [
              "<Figure size 432x288 with 1 Axes>"
            ]
          },
          "metadata": {
            "tags": [],
            "needs_background": "light"
          }
        }
      ]
    },
    {
      "cell_type": "markdown",
      "metadata": {
        "id": "vViZYfwdjlUq"
      },
      "source": [
        "In this model I've decided not to use location."
      ]
    },
    {
      "cell_type": "code",
      "metadata": {
        "colab": {
          "base_uri": "https://localhost:8080/"
        },
        "id": "bkGjFX7a1ioc",
        "outputId": "0e610de8-4592-4a74-de5c-1311f520e831"
      },
      "source": [
        "data['clean_text']=data['clean_text'].astype(str)\n",
        "data['clean_text']=data['clean_text'].apply(lambda x: TextBlob(str(x))) #correcting grammar,not sure its works perfectly\n",
        "print(data.loc[a\t,'clean_text'])"
      ],
      "execution_count": 42,
      "outputs": [
        {
          "output_type": "stream",
          "text": [
            " PM Hazardous Weather Outlook NO HAZARDOUS WEATHER IS EXPECTED AT THIS TIME \n"
          ],
          "name": "stdout"
        }
      ]
    },
    {
      "cell_type": "code",
      "metadata": {
        "id": "pYvydBlGzPvf"
      },
      "source": [
        "data_cleaned=data.drop(columns=['id','keyword','location','text','clean_location'],axis=0)"
      ],
      "execution_count": 43,
      "outputs": []
    },
    {
      "cell_type": "code",
      "metadata": {
        "id": "lo_6MSg3uLWG"
      },
      "source": [
        "data_cleaned=data_cleaned.sample(len(data_cleaned))\n"
      ],
      "execution_count": 44,
      "outputs": []
    },
    {
      "cell_type": "code",
      "metadata": {
        "id": "pS6R5FAp0QDv"
      },
      "source": [
        "def lemmatize_text(text): #need to lemmatize the text before converting it to the vectors.\n",
        "  text = ''.join(ch for ch in text if ch.isalnum() or ch==\" \")\n",
        "  text = text.replace(\" +\",\" \").lower().strip()\n",
        "  text=nlp(text)\n",
        "  lemma = ' '.join([token.lemma_ for token in text if token.lemma_ not in STOP_WORDS])\n",
        "  return lemma"
      ],
      "execution_count": 45,
      "outputs": []
    },
    {
      "cell_type": "code",
      "metadata": {
        "id": "NCyfN1yY72so"
      },
      "source": [
        "data_cleaned[[\"text_lemma\"]] = data_cleaned[\"clean_text\"].apply(lambda x: lemmatize_text(str(x)))\n",
        "data_cleaned[[\"clean_keyword_lemma\"]] = data_cleaned[\"clean_keyword\"].apply(lambda x: lemmatize_text(str(x)))"
      ],
      "execution_count": 46,
      "outputs": []
    },
    {
      "cell_type": "code",
      "metadata": {
        "colab": {
          "base_uri": "https://localhost:8080/",
          "height": 195
        },
        "id": "5c90Ql7w1j-R",
        "outputId": "59ab68a6-4afc-42b9-fde2-f9393bf35819"
      },
      "source": [
        "data_cleaned[\"text_lemma\"]=data_cleaned[\"text_lemma\"].str.split().map(lambda x: \" \".join(s for s in x if len(s) > 2)) # cleaning all words >2 letters by in case\n",
        "data_cleaned=data_cleaned.drop(columns=['clean_text','clean_keyword'], axis=1)\n",
        "\n",
        "data_cleaned.sample(5)\n"
      ],
      "execution_count": 47,
      "outputs": [
        {
          "output_type": "execute_result",
          "data": {
            "text/html": [
              "<div>\n",
              "<style scoped>\n",
              "    .dataframe tbody tr th:only-of-type {\n",
              "        vertical-align: middle;\n",
              "    }\n",
              "\n",
              "    .dataframe tbody tr th {\n",
              "        vertical-align: top;\n",
              "    }\n",
              "\n",
              "    .dataframe thead th {\n",
              "        text-align: right;\n",
              "    }\n",
              "</style>\n",
              "<table border=\"1\" class=\"dataframe\">\n",
              "  <thead>\n",
              "    <tr style=\"text-align: right;\">\n",
              "      <th></th>\n",
              "      <th>target</th>\n",
              "      <th>text_lemma</th>\n",
              "      <th>clean_keyword_lemma</th>\n",
              "    </tr>\n",
              "  </thead>\n",
              "  <tbody>\n",
              "    <tr>\n",
              "      <th>482</th>\n",
              "      <td>0</td>\n",
              "      <td>-PRON- dog attack -PRON- -PRON- food pugprobs</td>\n",
              "      <td>attack</td>\n",
              "    </tr>\n",
              "    <tr>\n",
              "      <th>7578</th>\n",
              "      <td>0</td>\n",
              "      <td>wreck -PRON-</td>\n",
              "      <td>wreck</td>\n",
              "    </tr>\n",
              "    <tr>\n",
              "      <th>2470</th>\n",
              "      <td>1</td>\n",
              "      <td>modiministry railway minister prabhu derailmen...</td>\n",
              "      <td>derailment</td>\n",
              "    </tr>\n",
              "    <tr>\n",
              "      <th>77</th>\n",
              "      <td>1</td>\n",
              "      <td>traffic accident cabrillo hwy magellan mir</td>\n",
              "      <td>accident</td>\n",
              "    </tr>\n",
              "    <tr>\n",
              "      <th>2656</th>\n",
              "      <td>0</td>\n",
              "      <td>apollo brown detonate</td>\n",
              "      <td>detonate</td>\n",
              "    </tr>\n",
              "  </tbody>\n",
              "</table>\n",
              "</div>"
            ],
            "text/plain": [
              "      target  ... clean_keyword_lemma\n",
              "482        0  ...              attack\n",
              "7578       0  ...               wreck\n",
              "2470       1  ...          derailment\n",
              "77         1  ...            accident\n",
              "2656       0  ...            detonate\n",
              "\n",
              "[5 rows x 3 columns]"
            ]
          },
          "metadata": {
            "tags": []
          },
          "execution_count": 47
        }
      ]
    },
    {
      "cell_type": "code",
      "metadata": {
        "id": "qEuCUReU2r1W",
        "colab": {
          "base_uri": "https://localhost:8080/"
        },
        "outputId": "17244645-1a4d-45ff-c92c-f2d03ec78299"
      },
      "source": [
        "tokenizer = tf.keras.preprocessing.text.Tokenizer() #creating tokenizer\n",
        "tokenizer.fit_on_texts(data_cleaned['text_lemma'])\n",
        "vocabulary_size=len(tokenizer.word_index)\n",
        "vocabulary_size"
      ],
      "execution_count": 48,
      "outputs": [
        {
          "output_type": "execute_result",
          "data": {
            "text/plain": [
              "11656"
            ]
          },
          "metadata": {
            "tags": []
          },
          "execution_count": 48
        }
      ]
    },
    {
      "cell_type": "code",
      "metadata": {
        "colab": {
          "base_uri": "https://localhost:8080/",
          "height": 195
        },
        "id": "PZQ5otBu21Nd",
        "outputId": "6dc15ddc-7eb2-46d4-89ef-74ef9ab4d726"
      },
      "source": [
        "data_cleaned[\"encoded\"] = tokenizer.texts_to_sequences(data_cleaned['text_lemma'])#converting text to vector\n",
        "data_cleaned[\"encoded_keyword\"]  = tokenizer.texts_to_sequences(data_cleaned['clean_keyword_lemma'])\n",
        "\n",
        "data_cleaned.head()"
      ],
      "execution_count": 49,
      "outputs": [
        {
          "output_type": "execute_result",
          "data": {
            "text/html": [
              "<div>\n",
              "<style scoped>\n",
              "    .dataframe tbody tr th:only-of-type {\n",
              "        vertical-align: middle;\n",
              "    }\n",
              "\n",
              "    .dataframe tbody tr th {\n",
              "        vertical-align: top;\n",
              "    }\n",
              "\n",
              "    .dataframe thead th {\n",
              "        text-align: right;\n",
              "    }\n",
              "</style>\n",
              "<table border=\"1\" class=\"dataframe\">\n",
              "  <thead>\n",
              "    <tr style=\"text-align: right;\">\n",
              "      <th></th>\n",
              "      <th>target</th>\n",
              "      <th>text_lemma</th>\n",
              "      <th>clean_keyword_lemma</th>\n",
              "      <th>encoded</th>\n",
              "      <th>encoded_keyword</th>\n",
              "    </tr>\n",
              "  </thead>\n",
              "  <tbody>\n",
              "    <tr>\n",
              "      <th>6177</th>\n",
              "      <td>1</td>\n",
              "      <td>bomb squad car head north elliott siren word -...</td>\n",
              "      <td>siren</td>\n",
              "      <td>[13, 1193, 42, 130, 457, 3339, 166, 279, 1, 130]</td>\n",
              "      <td>[166]</td>\n",
              "    </tr>\n",
              "    <tr>\n",
              "      <th>2100</th>\n",
              "      <td>0</td>\n",
              "      <td>like video hazard death sport</td>\n",
              "      <td>death</td>\n",
              "      <td>[2, 12, 237, 39, 817]</td>\n",
              "      <td>[39]</td>\n",
              "    </tr>\n",
              "    <tr>\n",
              "      <th>5891</th>\n",
              "      <td>1</td>\n",
              "      <td>watch airport swallow sandstorm minute</td>\n",
              "      <td>sandstorm</td>\n",
              "      <td>[37, 387, 356, 290, 228]</td>\n",
              "      <td>[290]</td>\n",
              "    </tr>\n",
              "    <tr>\n",
              "      <th>5993</th>\n",
              "      <td>0</td>\n",
              "      <td>scream don scare -PRON- -PRON- animatronic</td>\n",
              "      <td>scream</td>\n",
              "      <td>[44, 8, 818, 1, 1, 4895]</td>\n",
              "      <td>[44]</td>\n",
              "    </tr>\n",
              "    <tr>\n",
              "      <th>5692</th>\n",
              "      <td>1</td>\n",
              "      <td>rescue med migrant arrive sicily migrant rescue</td>\n",
              "      <td>rescue</td>\n",
              "      <td>[68, 869, 195, 675, 1613, 195, 68]</td>\n",
              "      <td>[68]</td>\n",
              "    </tr>\n",
              "  </tbody>\n",
              "</table>\n",
              "</div>"
            ],
            "text/plain": [
              "      target  ... encoded_keyword\n",
              "6177       1  ...           [166]\n",
              "2100       0  ...            [39]\n",
              "5891       1  ...           [290]\n",
              "5993       0  ...            [44]\n",
              "5692       1  ...            [68]\n",
              "\n",
              "[5 rows x 5 columns]"
            ]
          },
          "metadata": {
            "tags": []
          },
          "execution_count": 49
        }
      ]
    },
    {
      "cell_type": "code",
      "metadata": {
        "id": "UfFnTBxi3e3X"
      },
      "source": [
        "padded_ecoded_text = tf.keras.preprocessing.sequence.pad_sequences(data_cleaned[\"encoded\"], padding=\"post\")"
      ],
      "execution_count": 92,
      "outputs": []
    },
    {
      "cell_type": "code",
      "metadata": {
        "colab": {
          "base_uri": "https://localhost:8080/"
        },
        "id": "NR2ji_9SIa_h",
        "outputId": "0b207269-e5d5-4c4a-f3b9-5da671dedb82"
      },
      "source": [
        "padded_ecoded_keyword = tf.keras.preprocessing.sequence.pad_sequences(data_cleaned[\"encoded_keyword\"], padding=\"post\")\n",
        "padded_ecoded_keyword.shape"
      ],
      "execution_count": 93,
      "outputs": [
        {
          "output_type": "execute_result",
          "data": {
            "text/plain": [
              "(7613, 2)"
            ]
          },
          "metadata": {
            "tags": []
          },
          "execution_count": 93
        }
      ]
    },
    {
      "cell_type": "code",
      "metadata": {
        "id": "BY6BV6iq8Jyi"
      },
      "source": [
        "from sklearn.feature_extraction.text import TfidfVectorizer\n",
        "\n",
        "tfidf_v = TfidfVectorizer(max_df=0.9, min_df=0.01, max_features=1000)\n",
        "\n",
        "tfidf_data = tfidf_v.fit_transform(data_cleaned[\"text_lemma\"])"
      ],
      "execution_count": 94,
      "outputs": []
    },
    {
      "cell_type": "code",
      "metadata": {
        "id": "6i1Q_4M89Yrg"
      },
      "source": [
        "tfidf_data = tfidf_data.todense()"
      ],
      "execution_count": 95,
      "outputs": []
    },
    {
      "cell_type": "code",
      "metadata": {
        "id": "TzU7AEXR-dqW"
      },
      "source": [
        "full_ds_model = tf.data.Dataset.from_tensor_slices((padded_ecoded_text, padded_ecoded_keyword, tfidf_data, data_cleaned[\"target\"]))"
      ],
      "execution_count": 96,
      "outputs": []
    },
    {
      "cell_type": "code",
      "metadata": {
        "id": "h5Vp6BmxVlr7"
      },
      "source": [
        "train_data = full_ds_model.shuffle(int(data_cleaned.shape[0]))"
      ],
      "execution_count": 97,
      "outputs": []
    },
    {
      "cell_type": "code",
      "metadata": {
        "colab": {
          "base_uri": "https://localhost:8080/"
        },
        "id": "ezHZqwAqUqTy",
        "outputId": "d69ebf3e-b870-4c6f-bb51-953adaec4f2c"
      },
      "source": [
        "padded_ecoded_text.shape"
      ],
      "execution_count": 98,
      "outputs": [
        {
          "output_type": "execute_result",
          "data": {
            "text/plain": [
              "(7613, 23)"
            ]
          },
          "metadata": {
            "tags": []
          },
          "execution_count": 98
        }
      ]
    },
    {
      "cell_type": "code",
      "metadata": {
        "colab": {
          "base_uri": "https://localhost:8080/"
        },
        "id": "HTUtWiDZ8SsG",
        "outputId": "0dc1a7b2-f505-4955-f24b-4c8b0953c921"
      },
      "source": [
        "vocab_size_keyword=0\n",
        "for x in range(0,len(data_cleaned.encoded_keyword)):\n",
        "    vocab_size_keyword+=len(data_cleaned.encoded_keyword[x])\n",
        "\n",
        "vocab_size_keyword"
      ],
      "execution_count": 99,
      "outputs": [
        {
          "output_type": "execute_result",
          "data": {
            "text/plain": [
              "8643"
            ]
          },
          "metadata": {
            "tags": []
          },
          "execution_count": 99
        }
      ]
    },
    {
      "cell_type": "code",
      "metadata": {
        "colab": {
          "base_uri": "https://localhost:8080/"
        },
        "id": "fjmyjYZ0_kT3",
        "outputId": "b85a3afa-373a-48e4-96f3-9ec9da947633"
      },
      "source": [
        "for  tweet,keyword,tfidf_sample, target in train_data.take(1):\n",
        "        print (keyword.shape[0])"
      ],
      "execution_count": 100,
      "outputs": [
        {
          "output_type": "stream",
          "text": [
            "2\n"
          ],
          "name": "stdout"
        }
      ]
    },
    {
      "cell_type": "code",
      "metadata": {
        "colab": {
          "base_uri": "https://localhost:8080/"
        },
        "id": "yD-gHEH-jd_X",
        "outputId": "f95f9cc3-7da8-4bd2-d393-65efa0d14b7b"
      },
      "source": [
        "vocab_size=len(tokenizer.index_word)\n",
        "vocab_size"
      ],
      "execution_count": 101,
      "outputs": [
        {
          "output_type": "execute_result",
          "data": {
            "text/plain": [
              "11656"
            ]
          },
          "metadata": {
            "tags": []
          },
          "execution_count": 101
        }
      ]
    },
    {
      "cell_type": "markdown",
      "metadata": {
        "id": "PEJdVrH5ReJY"
      },
      "source": [
        "# Creating customazed model with three inputs: encoded padded text, itd tf-idf matrix, keyword vector\n"
      ]
    },
    {
      "cell_type": "code",
      "metadata": {
        "id": "93XJgTkhfmbT"
      },
      "source": [
        "# model for sequences\n",
        "\n",
        "emb1 = tf.keras.layers.Embedding(vocab_size+1, 256, input_length=[tweet.shape[0]])\n",
        "lstm1 = tf.keras.layers.LSTM(256, return_sequences=True)\n",
        "lstm2 = tf.keras.layers.LSTM(128, return_sequences=False)\n",
        "dropout_tweet = tf.keras.layers.Dropout(0.3)\n",
        "dropout_tfidf = tf.keras.layers.Dropout(0.3)\n",
        "\n",
        "# model for keyword data\n",
        "emb2 = tf.keras.layers.Embedding(vocab_size_keyword+1, 4, input_length=[keyword.shape[0]])\n",
        "fl=tf.keras.layers.Flatten()\n",
        "bn_keyword = tf.keras.layers.BatchNormalization()\n",
        "dense_keyword = tf.keras.layers.Dense(128, activation=\"relu\",kernel_regularizer=\"l1\")\n",
        "\n",
        "\n",
        "# model for tfidf\n",
        "dense_tfidf = tf.keras.layers.Dense(32, activation=\"relu\",kernel_regularizer=\"l1\")\n",
        "\n",
        "\n",
        "# model concatenated data\n",
        "dense_concat = tf.keras.layers.Dense(128, activation=\"relu\",kernel_regularizer=\"l1\")\n",
        "dense_after_concat=tf.keras.layers.Dense(32, activation=\"relu\",kernel_regularizer=\"l1\")\n",
        "dense_pred = tf.keras.layers.Dense(1, activation=\"sigmoid\",kernel_regularizer=\"l1\")\n",
        "dropout_after_concat = tf.keras.layers.Dropout(0.5)"
      ],
      "execution_count": 102,
      "outputs": []
    },
    {
      "cell_type": "code",
      "metadata": {
        "colab": {
          "base_uri": "https://localhost:8080/"
        },
        "id": "AGTUIIsId2nl",
        "outputId": "f27558b6-23c3-4663-9484-8228a2ffd685"
      },
      "source": [
        "keyword.shape[0]"
      ],
      "execution_count": 103,
      "outputs": [
        {
          "output_type": "execute_result",
          "data": {
            "text/plain": [
              "2"
            ]
          },
          "metadata": {
            "tags": []
          },
          "execution_count": 103
        }
      ]
    },
    {
      "cell_type": "code",
      "metadata": {
        "id": "Eo7kjQcmfmfH"
      },
      "source": [
        "input_text = tf.keras.Input(shape = [tweet.shape[0]], name=\"tweets\")\n",
        "input_keyword = tf.keras.Input(shape=[keyword.shape[0]], name=\"keyword\")\n",
        "input_tfidf = tf.keras.Input(shape=[tfidf_sample.shape[0]], name=\"tfidf\")\n",
        "\n",
        "\n",
        "text = emb1(input_text)\n",
        "text = lstm1(text)\n",
        "text = lstm1(text)\n",
        "text = lstm2(text)\n",
        "text = dropout_tweet(text)\n",
        "\n",
        "keyword = emb2(input_keyword)\n",
        "keyword=fl(keyword)\n",
        "keyword = bn_keyword(keyword)\n",
        "keyword = dense_keyword(keyword)\n",
        "\n",
        "tfidf_output = dense_tfidf(input_tfidf)\n",
        "tfidf_output = dropout_tfidf(tfidf_output)\n",
        "\n",
        "concat = tf.keras.layers.Concatenate()([text,keyword,tfidf_output])\n",
        "\n",
        "concat = dense_concat(concat)\n",
        "concat=dropout_after_concat(concat)\n",
        "dense_aft_concat=dense_after_concat(concat)\n",
        "pred = dense_pred(dense_aft_concat)"
      ],
      "execution_count": 104,
      "outputs": []
    },
    {
      "cell_type": "code",
      "metadata": {
        "id": "FNSW23xmfmgP"
      },
      "source": [
        "model = tf.keras.Model(inputs=[input_text,input_keyword,input_tfidf], outputs=pred)"
      ],
      "execution_count": 105,
      "outputs": []
    },
    {
      "cell_type": "code",
      "metadata": {
        "colab": {
          "base_uri": "https://localhost:8080/",
          "height": 1000
        },
        "id": "EGWbaM9Zfmiq",
        "outputId": "2b9bcbe4-6c49-45c6-ba9d-4ede323a0ece"
      },
      "source": [
        "tf.keras.utils.plot_model(model,show_shapes=True)"
      ],
      "execution_count": 106,
      "outputs": [
        {
          "output_type": "execute_result",
          "data": {
            "image/png": "[encoded data removed]",
            "text/plain": [
              "<IPython.core.display.Image object>"
            ]
          },
          "metadata": {
            "tags": []
          },
          "execution_count": 106
        }
      ]
    },
    {
      "cell_type": "code",
      "metadata": {
        "id": "7aRt1xvzByDY"
      },
      "source": [
        "initial_learning_rate = 0.0001\n",
        "lr_schedule = tf.keras.optimizers.schedules.ExponentialDecay(\n",
        "    initial_learning_rate,\n",
        "    decay_steps=1000,\n",
        "    decay_rate=0.96,\n",
        "    staircase=True)\n",
        "\n"
      ],
      "execution_count": 107,
      "outputs": []
    },
    {
      "cell_type": "code",
      "metadata": {
        "id": "CZsApCu5fmj4"
      },
      "source": [
        "model.compile(optimizer=tf.keras.optimizers.Adam(learning_rate=lr_schedule),\n",
        "              loss=tf.keras.losses.BinaryCrossentropy(),\n",
        "              metrics=[tf.keras.metrics.BinaryAccuracy()])"
      ],
      "execution_count": 108,
      "outputs": []
    },
    {
      "cell_type": "code",
      "metadata": {
        "colab": {
          "base_uri": "https://localhost:8080/"
        },
        "id": "wKvAUH6-f8mZ",
        "outputId": "655b85f5-6f49-4f05-dd8a-8183b4a857aa"
      },
      "source": [
        "model.fit(x={\"tweets\": padded_ecoded_text,\n",
        "             \"keyword\": padded_ecoded_keyword,\n",
        "             \"tfidf\": tfidf_data},\n",
        "          y=data_cleaned['target'],\n",
        "          validation_split = 0.3,\n",
        "          batch_size = 32,\n",
        "          epochs=20)"
      ],
      "execution_count": 109,
      "outputs": [
        {
          "output_type": "stream",
          "text": [
            "Epoch 1/20\n",
            "167/167 [==============================] - 58s 317ms/step - loss: 29.1401 - binary_accuracy: 0.5666 - val_loss: 23.9100 - val_binary_accuracy: 0.7496\n",
            "Epoch 2/20\n",
            "167/167 [==============================] - 52s 310ms/step - loss: 22.2917 - binary_accuracy: 0.7865 - val_loss: 17.8722 - val_binary_accuracy: 0.7920\n",
            "Epoch 3/20\n",
            "167/167 [==============================] - 52s 310ms/step - loss: 16.4357 - binary_accuracy: 0.8914 - val_loss: 12.9049 - val_binary_accuracy: 0.7942\n",
            "Epoch 4/20\n",
            "167/167 [==============================] - 52s 310ms/step - loss: 11.6461 - binary_accuracy: 0.9262 - val_loss: 8.9608 - val_binary_accuracy: 0.7544\n",
            "Epoch 5/20\n",
            "167/167 [==============================] - 52s 311ms/step - loss: 7.8474 - binary_accuracy: 0.9439 - val_loss: 5.9257 - val_binary_accuracy: 0.7557\n",
            "Epoch 6/20\n",
            "167/167 [==============================] - 52s 310ms/step - loss: 4.9982 - binary_accuracy: 0.9600 - val_loss: 3.7711 - val_binary_accuracy: 0.7732\n",
            "Epoch 7/20\n",
            "167/167 [==============================] - 52s 310ms/step - loss: 3.1177 - binary_accuracy: 0.9630 - val_loss: 2.6084 - val_binary_accuracy: 0.7557\n",
            "Epoch 8/20\n",
            "167/167 [==============================] - 52s 310ms/step - loss: 2.1540 - binary_accuracy: 0.9658 - val_loss: 2.0519 - val_binary_accuracy: 0.7666\n",
            "Epoch 9/20\n",
            "167/167 [==============================] - 52s 312ms/step - loss: 1.6352 - binary_accuracy: 0.9679 - val_loss: 1.6511 - val_binary_accuracy: 0.7675\n",
            "Epoch 10/20\n",
            "167/167 [==============================] - 52s 310ms/step - loss: 1.2311 - binary_accuracy: 0.9685 - val_loss: 1.3913 - val_binary_accuracy: 0.7426\n",
            "Epoch 11/20\n",
            "167/167 [==============================] - 51s 307ms/step - loss: 0.9388 - binary_accuracy: 0.9625 - val_loss: 1.1141 - val_binary_accuracy: 0.7548\n",
            "Epoch 12/20\n",
            "167/167 [==============================] - 51s 307ms/step - loss: 0.7111 - binary_accuracy: 0.9676 - val_loss: 0.9735 - val_binary_accuracy: 0.7649\n",
            "Epoch 13/20\n",
            "167/167 [==============================] - 51s 307ms/step - loss: 0.5790 - binary_accuracy: 0.9734 - val_loss: 0.9004 - val_binary_accuracy: 0.7693\n",
            "Epoch 14/20\n",
            "167/167 [==============================] - 51s 307ms/step - loss: 0.5214 - binary_accuracy: 0.9662 - val_loss: 0.8817 - val_binary_accuracy: 0.7680\n",
            "Epoch 15/20\n",
            "167/167 [==============================] - 51s 306ms/step - loss: 0.4959 - binary_accuracy: 0.9654 - val_loss: 0.9216 - val_binary_accuracy: 0.7518\n",
            "Epoch 16/20\n",
            "167/167 [==============================] - 51s 308ms/step - loss: 0.4817 - binary_accuracy: 0.9657 - val_loss: 0.8857 - val_binary_accuracy: 0.7688\n",
            "Epoch 17/20\n",
            "167/167 [==============================] - 51s 305ms/step - loss: 0.4683 - binary_accuracy: 0.9667 - val_loss: 0.8768 - val_binary_accuracy: 0.7618\n",
            "Epoch 18/20\n",
            "167/167 [==============================] - 51s 307ms/step - loss: 0.4678 - binary_accuracy: 0.9641 - val_loss: 0.8838 - val_binary_accuracy: 0.7588\n",
            "Epoch 19/20\n",
            "167/167 [==============================] - 51s 308ms/step - loss: 0.4698 - binary_accuracy: 0.9592 - val_loss: 0.8730 - val_binary_accuracy: 0.7715\n",
            "Epoch 20/20\n",
            "167/167 [==============================] - 51s 306ms/step - loss: 0.4550 - binary_accuracy: 0.9605 - val_loss: 0.8660 - val_binary_accuracy: 0.7671\n"
          ],
          "name": "stdout"
        },
        {
          "output_type": "execute_result",
          "data": {
            "text/plain": [
              "<tensorflow.python.keras.callbacks.History at 0x7fb5046cc790>"
            ]
          },
          "metadata": {
            "tags": []
          },
          "execution_count": 109
        }
      ]
    },
    {
      "cell_type": "markdown",
      "metadata": {
        "id": "CS-_e_0vjoCW"
      },
      "source": [
        "# Nouvelle section"
      ]
    },
    {
      "cell_type": "markdown",
      "metadata": {
        "id": "-A-JTLCdjoqu"
      },
      "source": [
        "# Nouvelle section"
      ]
    }
  ]
}